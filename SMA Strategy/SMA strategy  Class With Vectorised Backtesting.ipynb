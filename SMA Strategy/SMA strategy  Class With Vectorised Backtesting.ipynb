{
 "cells": [
  {
   "cell_type": "code",
   "execution_count": 5,
   "id": "8a4f6cf0",
   "metadata": {},
   "outputs": [],
   "source": [
    "import pandas as pd\n",
    "import numpy as np\n",
    "from scipy.optimize import brute"
   ]
  },
  {
   "cell_type": "code",
   "execution_count": 48,
   "id": "daf5b41e",
   "metadata": {},
   "outputs": [],
   "source": [
    "class SMAVectorBacktest:\n",
    "    def __init__(self, symbol, SMA1, SMA2, start, end):\n",
    "        self.symbol = symbol\n",
    "        self.SMA1 = SMA1\n",
    "        self.SMA2 = SMA2\n",
    "        self.start = start\n",
    "        self.end = end\n",
    "        self.results = None\n",
    "        self.get_data()\n",
    "    \n",
    "    def get_data(self):\n",
    "        raw_data = pd.read_csv(\n",
    "            \"https://hilpisch.com/pyalgo_eikon_eod_data.csv\",\n",
    "            index_col=0, parse_dates=True\n",
    "        )\n",
    "        # Select your symbol first, THEN drop NaNs (don’t let other tickers shrink your rows)\n",
    "        raw_data = pd.DataFrame(raw_data[self.symbol]).dropna()\n",
    "        raw_data = raw_data.loc[self.start:self.end]\n",
    "        raw_data.rename(columns = {self.symbol:'price'}, inplace=True)\n",
    "        raw_data['SMA1'] = raw_data['price'].rolling(self.SMA1).mean()\n",
    "        raw_data['SMA2'] = raw_data['price'].rolling(self.SMA2).mean()\n",
    "        raw_data['returns'] = np.log(raw_data['price'] / raw_data['price'].shift(1))\n",
    "        self.data = raw_data\n",
    "\n",
    "    def set_parameters(self, SMA1=None, SMA2=None):\n",
    "        if SMA1 is not None:\n",
    "            self.SMA1 = int(SMA1)\n",
    "        if SMA2 is not None:\n",
    "            self.SMA2 = int(SMA2)\n",
    "        self.data['SMA1'] = self.data['price'].rolling(self.SMA1).mean()\n",
    "        self.data['SMA2'] = self.data['price'].rolling(self.SMA2).mean()\n",
    "\n",
    "    def run_strategy(self):\n",
    "        data = self.data.copy().dropna()\n",
    "        if data.empty:\n",
    "            raise ValueError(\n",
    "                f\"No data left after applying SMAs (SMA1={self.SMA1}, SMA2={self.SMA2}). \"\n",
    "                \"Use smaller windows or a longer date range.\"\n",
    "            )\n",
    "        data['position'] = np.where(data['SMA1'] > data['SMA2'], 1, -1 )\n",
    "        data['strategy'] = data['position'].shift(1) * data['returns']\n",
    "        data.dropna(inplace=True)\n",
    "        data['creturns'] = data['returns'].cumsum().apply(np.exp)\n",
    "        data['cstrategy'] = data['strategy'].cumsum().apply(np.exp)\n",
    "        self.results = data\n",
    "        # Gross Performance of the strategy\n",
    "        aperf = data['cstrategy'].iloc[-1]\n",
    "        # out/underperformance of strategy\n",
    "        operf = aperf - data['creturns'].iloc[-1]\n",
    "        return round(aperf, 2), round(operf, 2)\n",
    "        \n",
    "    def plot_results(self):\n",
    "        if self.results is None:\n",
    "            print(\"No Results found to plot, Run a strategy first!\")\n",
    "        title = f'{self.symbol} | SMA1={self.SMA1}, SMA2={self.SMA2}'\n",
    "        self.results[['creturns', 'cstrategy']].plot(title=title, figsize=(10,6))\n",
    "    \n",
    "    def update_and_run(self, SMA):\n",
    "        self.set_parameters(int(SMA[0]), int(SMA[1]))\n",
    "        return -self.run_strategy()[0]\n",
    "    \n",
    "    def optimize_parameters(self, SMA1_range, SMA2_range):\n",
    "        opt = brute(self.update_and_run, (SMA1_range, SMA2_range), finish=None)\n",
    "        return opt, -self.update_and_run(opt)"
   ]
  },
  {
   "cell_type": "code",
   "execution_count": 49,
   "id": "eb3bf0d9",
   "metadata": {},
   "outputs": [
    {
     "name": "stdout",
     "output_type": "stream",
     "text": [
      "(np.float64(1.43), np.float64(0.57))\n",
      "(np.float64(1.08), np.float64(0.18))\n",
      "(array([ 50., 240.]), np.float64(1.53))\n"
     ]
    }
   ],
   "source": [
    "if __name__ == '__main__':\n",
    "    smabt = SMAVectorBacktest('EUR=', 42, 252,\n",
    "    '2010-1-1', '2020-12-31')\n",
    "    print(smabt.run_strategy())\n",
    "    smabt.set_parameters(SMA1=20, SMA2=100)\n",
    "    print(smabt.run_strategy())\n",
    "    print(smabt.optimize_parameters((30, 56, 4), (200, 300, 4)))"
   ]
  }
 ],
 "metadata": {
  "kernelspec": {
   "display_name": ".venv (3.12.3)",
   "language": "python",
   "name": "python3"
  },
  "language_info": {
   "codemirror_mode": {
    "name": "ipython",
    "version": 3
   },
   "file_extension": ".py",
   "mimetype": "text/x-python",
   "name": "python",
   "nbconvert_exporter": "python",
   "pygments_lexer": "ipython3",
   "version": "3.12.3"
  }
 },
 "nbformat": 4,
 "nbformat_minor": 5
}
